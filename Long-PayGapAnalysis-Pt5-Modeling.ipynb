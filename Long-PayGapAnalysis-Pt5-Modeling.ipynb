{
 "cells": [
  {
   "cell_type": "markdown",
   "metadata": {
    "azdata_cell_guid": "c9a57f69-e372-43d2-94fc-ab1a9097069f"
   },
   "source": [
    "# Checkpoint Five: Modeling Data\n",
    "\n",
    "With your visualizations ready to go, the final step in your project is to do some predictive analysis on your dataset. You will be using linear regression for your model. You will not be penalized if your linear regression model does not work out. You just need to build the model and make notes as to the results.\n",
    "\n",
    "Link to my dataset:\n",
    "\n",
    "## Prepare Your Dataframe\n",
    "\n",
    "Import any libraries you need and create a dataframe."
   ]
  },
  {
   "cell_type": "code",
   "execution_count": 1,
   "metadata": {
    "azdata_cell_guid": "f9287db4-8af9-4bce-9a54-ffeeee0e045f"
   },
   "outputs": [],
   "source": [
    "# Import libries need with alias\n",
    "import pandas as pd\n",
    "%matplotlib inline\n",
    "import matplotlib.pyplot as plt\n",
    "import seaborn as sns\n",
    "\n",
    "\n",
    "# Set style and font size\n",
    "sns.set_style('darkgrid')\n",
    "sns.set(font_scale=1.5)\n",
    "\n",
    "df = pd.read_csv(\"Glassdoor_Gender_Pay_Gap.csv\")"
   ]
  },
  {
   "cell_type": "code",
   "execution_count": 2,
   "metadata": {},
   "outputs": [
    {
     "data": {
      "text/html": [
       "<div>\n",
       "<style scoped>\n",
       "    .dataframe tbody tr th:only-of-type {\n",
       "        vertical-align: middle;\n",
       "    }\n",
       "\n",
       "    .dataframe tbody tr th {\n",
       "        vertical-align: top;\n",
       "    }\n",
       "\n",
       "    .dataframe thead th {\n",
       "        text-align: right;\n",
       "    }\n",
       "</style>\n",
       "<table border=\"1\" class=\"dataframe\">\n",
       "  <thead>\n",
       "    <tr style=\"text-align: right;\">\n",
       "      <th></th>\n",
       "      <th>Age</th>\n",
       "      <th>PerfEval</th>\n",
       "      <th>Seniority</th>\n",
       "      <th>BasePay</th>\n",
       "      <th>Bonus</th>\n",
       "    </tr>\n",
       "  </thead>\n",
       "  <tbody>\n",
       "    <tr>\n",
       "      <th>count</th>\n",
       "      <td>1000.000000</td>\n",
       "      <td>1000.000000</td>\n",
       "      <td>1000.000000</td>\n",
       "      <td>1000.000000</td>\n",
       "      <td>1000.000000</td>\n",
       "    </tr>\n",
       "    <tr>\n",
       "      <th>mean</th>\n",
       "      <td>41.393000</td>\n",
       "      <td>3.037000</td>\n",
       "      <td>2.971000</td>\n",
       "      <td>94472.653000</td>\n",
       "      <td>6467.161000</td>\n",
       "    </tr>\n",
       "    <tr>\n",
       "      <th>std</th>\n",
       "      <td>14.294856</td>\n",
       "      <td>1.423959</td>\n",
       "      <td>1.395029</td>\n",
       "      <td>25337.493272</td>\n",
       "      <td>2004.377365</td>\n",
       "    </tr>\n",
       "    <tr>\n",
       "      <th>min</th>\n",
       "      <td>18.000000</td>\n",
       "      <td>1.000000</td>\n",
       "      <td>1.000000</td>\n",
       "      <td>34208.000000</td>\n",
       "      <td>1703.000000</td>\n",
       "    </tr>\n",
       "    <tr>\n",
       "      <th>25%</th>\n",
       "      <td>29.000000</td>\n",
       "      <td>2.000000</td>\n",
       "      <td>2.000000</td>\n",
       "      <td>76850.250000</td>\n",
       "      <td>4849.500000</td>\n",
       "    </tr>\n",
       "    <tr>\n",
       "      <th>50%</th>\n",
       "      <td>41.000000</td>\n",
       "      <td>3.000000</td>\n",
       "      <td>3.000000</td>\n",
       "      <td>93327.500000</td>\n",
       "      <td>6507.000000</td>\n",
       "    </tr>\n",
       "    <tr>\n",
       "      <th>75%</th>\n",
       "      <td>54.250000</td>\n",
       "      <td>4.000000</td>\n",
       "      <td>4.000000</td>\n",
       "      <td>111558.000000</td>\n",
       "      <td>8026.000000</td>\n",
       "    </tr>\n",
       "    <tr>\n",
       "      <th>max</th>\n",
       "      <td>65.000000</td>\n",
       "      <td>5.000000</td>\n",
       "      <td>5.000000</td>\n",
       "      <td>179726.000000</td>\n",
       "      <td>11293.000000</td>\n",
       "    </tr>\n",
       "  </tbody>\n",
       "</table>\n",
       "</div>"
      ],
      "text/plain": [
       "               Age     PerfEval    Seniority        BasePay         Bonus\n",
       "count  1000.000000  1000.000000  1000.000000    1000.000000   1000.000000\n",
       "mean     41.393000     3.037000     2.971000   94472.653000   6467.161000\n",
       "std      14.294856     1.423959     1.395029   25337.493272   2004.377365\n",
       "min      18.000000     1.000000     1.000000   34208.000000   1703.000000\n",
       "25%      29.000000     2.000000     2.000000   76850.250000   4849.500000\n",
       "50%      41.000000     3.000000     3.000000   93327.500000   6507.000000\n",
       "75%      54.250000     4.000000     4.000000  111558.000000   8026.000000\n",
       "max      65.000000     5.000000     5.000000  179726.000000  11293.000000"
      ]
     },
     "execution_count": 2,
     "metadata": {},
     "output_type": "execute_result"
    }
   ],
   "source": [
    "df.describe()"
   ]
  },
  {
   "cell_type": "markdown",
   "metadata": {
    "azdata_cell_guid": "d794ffe0-9cd3-4812-bc7d-f75460cf611c"
   },
   "source": [
    "## Find Correlations\n",
    "\n",
    "Use either pairplot or a heatmap or both to find the two variables with the strongest correlation in your dataset."
   ]
  },
  {
   "cell_type": "code",
   "execution_count": 1,
   "metadata": {
    "azdata_cell_guid": "b009376d-9eb1-4cf0-9487-f0ddc3dbc1cd"
   },
   "outputs": [],
   "source": []
  },
  {
   "cell_type": "markdown",
   "metadata": {
    "azdata_cell_guid": "b75b6098-4152-4701-9136-a8f774c8583e"
   },
   "source": [
    "## Create Your Model\n",
    "\n",
    "Use the two columns with the strongest correlation to create and train your model. Make sure to print out the summary and plot the column values and the line produced by the model."
   ]
  },
  {
   "cell_type": "code",
   "execution_count": 1,
   "metadata": {
    "azdata_cell_guid": "05ecd9c7-e4a4-4d5c-b092-3dff597e96a3"
   },
   "outputs": [],
   "source": []
  },
  {
   "cell_type": "code",
   "execution_count": 1,
   "metadata": {
    "azdata_cell_guid": "f55fbe86-74b8-44f7-af96-7448e58983d7",
    "tags": []
   },
   "outputs": [],
   "source": []
  },
  {
   "cell_type": "markdown",
   "metadata": {
    "azdata_cell_guid": "c021f50d-92b2-4359-b3a9-c47f62f0a94f"
   },
   "source": [
    "## Error Terms\n",
    "\n",
    "Finally, plot your error terms!"
   ]
  },
  {
   "cell_type": "code",
   "execution_count": 1,
   "metadata": {
    "azdata_cell_guid": "87480c6c-1bb6-4135-953a-c74ba3da518d"
   },
   "outputs": [],
   "source": []
  },
  {
   "cell_type": "markdown",
   "metadata": {
    "azdata_cell_guid": "5fc50d24-c873-4801-87f2-a1e518caf424"
   },
   "source": [
    "## Summarize Your Work\n",
    "\n",
    "Make notes of your answers to the questions below.\n",
    "\n",
    "1. What was your R-squared value? 0.638\n",
    "2. Based on your results, do you think a linear regression model was the best type of predictive analysis for your dataset? It was not particularly effective in this case.\n",
    "3. Was your plot of the error terms a bell curve? Not really"
   ]
  }
 ],
 "metadata": {
  "kernelspec": {
   "display_name": "Python 3 (ipykernel)",
   "language": "python",
   "name": "python3"
  },
  "language_info": {
   "codemirror_mode": {
    "name": "ipython",
    "version": 3
   },
   "file_extension": ".py",
   "mimetype": "text/x-python",
   "name": "python",
   "nbconvert_exporter": "python",
   "pygments_lexer": "ipython3",
   "version": "3.10.9"
  }
 },
 "nbformat": 4,
 "nbformat_minor": 2
}
